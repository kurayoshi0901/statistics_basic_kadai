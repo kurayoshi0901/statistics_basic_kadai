{
  "nbformat": 4,
  "nbformat_minor": 0,
  "metadata": {
    "colab": {
      "provenance": []
    },
    "kernelspec": {
      "name": "python3",
      "display_name": "Python 3"
    },
    "language_info": {
      "name": "python"
    }
  },
  "cells": [
    {
      "cell_type": "code",
      "execution_count": null,
      "metadata": {
        "colab": {
          "base_uri": "https://localhost:8080/"
        },
        "id": "w-5IdvpcZf6J",
        "outputId": "3f373f69-c312-42ab-cfb5-94574512ecd6"
      },
      "outputs": [
        {
          "output_type": "stream",
          "name": "stdout",
          "text": [
            " y = x^2のx = 3での傾きは6.000001000927568です\n"
          ]
        }
      ],
      "source": [
        "#実践1:\n",
        "'''y=x^2のある値での傾き(微分)を求める計算式を定義してください。\n",
        "変化点を小さくすることで算出してください。'''\n",
        "def f(x):\n",
        "    return x**2\n",
        "\n",
        "def derivative(x, delta_x=1e-6):\n",
        "    return (f(x + delta_x) - f(x)) / delta_x\n",
        "\n",
        "x = 3\n",
        "slope = derivative(x)\n",
        "print(f\" y = x^2のx = {x}での傾きは約{slope}です\")"
      ]
    },
    {
      "cell_type": "markdown",
      "source": [
        "# 新しいセクション"
      ],
      "metadata": {
        "id": "mq9iiXiKfCV2"
      }
    },
    {
      "cell_type": "code",
      "source": [
        "#実践２\n",
        "'''任意の関数を受け取ってその関数の傾き(微分)を求める計算式を関数で定義してください。'''\n",
        "\n",
        "def derivative(func, delta_x=1e-6):\n",
        "    return (func(x + delta_x) - func(x)) / delta_x\n"
      ],
      "metadata": {
        "id": "R4A_2Dz2eBnv"
      },
      "execution_count": null,
      "outputs": []
    },
    {
      "cell_type": "code",
      "source": [
        "#実践3-1:行列演算\n",
        "'''以下の演算を実施してください。\n",
        "ベクトル同士の足し算・引き算\n",
        "(a) 足し算: u = (2, -3, 5),\n",
        "v = (-1, 4, 1)\n",
        "u + vを計算せよ。'''\n",
        "\n",
        "import numpy as np\n",
        "u = np.array([2, -3, 5]),\n",
        "v = np.array([-1, 4, 1])\n",
        "print(\"ベクトル同士の足し算・引き算\")\n",
        "print(f\"(a){u+v}\")\n",
        "\n",
        "'''(b) 引き算:\n",
        "x = (7, -2, 4),\n",
        "y = (3, 5, -1)\n",
        "x - yを計算せよ。'''\n",
        "\n",
        "x = np.array([7, -2, 4]),\n",
        "y = np.array([3, 5, -1])\n",
        "print(f\"(b){x-y}\")\n",
        "\n",
        "'''行列同士の足し算引き算'''\n",
        "'''(a)'''\n",
        "A = np.array([[1,2,0], [3,-1,4]])\n",
        "B = np.array([[4,1,2],[-2,3,1]])\n",
        "\n",
        "print(\"行列同士の足し算引き算\")\n",
        "print(f\"(a){A+B}\")\n",
        "\n",
        "'''(b) '''\n",
        "C = np.array([[5,7,2],[-3,4,6],[1,-2,3]])\n",
        "D = np.array([[2,-1,4],[6,3,-2],[-4,1,5]])\n",
        "print(f\"(b){C-D}\")\n",
        "\n",
        "'''ベクトルのスカラー倍\n",
        "u = (2, -5, 3)\n",
        "2uを計算せよ。'''\n",
        "\n",
        "u = (2, -5, 3)\n",
        "print(\"ベクトルのスカラー倍\")\n",
        "print(f\"2u={u *2}\")\n",
        "\n",
        "\n",
        "\n",
        "'''行列のスカラー倍\n",
        "-3Aを計算せよ。'''\n",
        "\n",
        "A2 = np.array([[1,4,2], [3,-2,5]])\n",
        "\n",
        "print(\"行列のスカラー倍\")\n",
        "print(f\"-3A = {-3*A2}\")\n",
        "\n",
        "'''ABを計算せよ。'''\n",
        "\n",
        "A3 = np.array([[2,1], [3,4], [5,2]])\n",
        "B3 = np.array([[6,2], [2,7]])\n",
        "\n",
        "print(f\"AB = {np.dot(A3, B3)}\")\n",
        "\n",
        "'''行列とベクトルの掛け算\n",
        "\n",
        "Auを計算せよ。'''\n",
        "\n",
        "A4= np.array([[1,2,3], [4,5,6]])\n",
        "u = np.array([2,3,1])\n",
        "\n",
        "print(\"行列とベクトルの掛け算\")\n",
        "print(f\"Au = {np.dot(A4,u)}\")\n",
        "\n",
        "'''行列と単位行列の掛け算\n",
        "AI3を計算せよ。(I3は3×3の単位行列)'''\n",
        "\n",
        "A5 = np.array([[2,3,1], [4,0,2], [5,6,7]])\n",
        "I = 1\n",
        "print(\"行列と単位行列の掛け算\")\n",
        "print(f\"AI3 = {A5*I}\")"
      ],
      "metadata": {
        "id": "yNrIwF70eB5n",
        "colab": {
          "base_uri": "https://localhost:8080/"
        },
        "outputId": "346d986a-d8c9-44c2-f7ba-e92a374394e7"
      },
      "execution_count": null,
      "outputs": [
        {
          "output_type": "stream",
          "name": "stdout",
          "text": [
            "ベクトル同士の足し算・引き算\n",
            "(a)[[1 1 6]]\n",
            "(b)[[ 4 -7  5]]\n",
            "行列同士の足し算引き算\n",
            "(a)[[5 3 2]\n",
            " [1 2 5]]\n",
            "(b)[[ 3  8 -2]\n",
            " [-9  1  8]\n",
            " [ 5 -3 -2]]\n",
            "ベクトルのスカラー倍\n",
            "2u=(2, -5, 3, 2, -5, 3)\n",
            "行列のスカラー倍\n",
            "-3A = [[ -3 -12  -6]\n",
            " [ -9   6 -15]]\n",
            "AB = [[14 11]\n",
            " [26 34]\n",
            " [34 24]]\n",
            "行列とベクトルの掛け算\n",
            "Au = [11 29]\n",
            "行列と単位行列の掛け算\n",
            "AI3 = [[2 3 1]\n",
            " [4 0 2]\n",
            " [5 6 7]]\n"
          ]
        }
      ]
    },
    {
      "cell_type": "code",
      "source": [
        "#実践4-1(統計)\n",
        "'''サンプルデータ 生徒10人の数学とプログラミングの試験点数が以下のように与えられています。\n",
        "数学: [75, 82, 91, 64, 88, 73, 95, 67, 81, 70]\n",
        "プログラミング: [85, 76, 92, 68, 79, 81, 88, 65, 73, 87]\n",
        "問題1: 平均値を求める 数学とプログラミングの試験点数それぞれの平均点を求めてください。'''\n",
        "\n",
        "from math import sqrt\n",
        "\n",
        "math_scores = [75, 82, 91, 64, 88, 73, 95, 67, 81, 70]\n",
        "prog_scores = [85, 76, 92, 68, 79, 81, 88, 65, 73, 87]\n",
        "\n",
        "def mean(scores):\n",
        "    return sum(scores)/len(scores)\n",
        "\n",
        "math_mean = mean(math_scores)\n",
        "prog_mean = mean(prog_scores)\n",
        "print(f\"数学の平均点: {math_mean}\")\n",
        "print(f\"プログラミングの平均点: {prog_mean}\")\n",
        "\n",
        "# 問題2: 中央値\n",
        "def median(scores):\n",
        "    sorted_scores = sorted(scores)\n",
        "    n = len(sorted_scores)\n",
        "    if n % 2 == 1:\n",
        "        return sorted_scores[n // 2]\n",
        "    else:\n",
        "        right = n // 2\n",
        "        left = right - 1\n",
        "        return (sorted_scores[left] + sorted_scores[right]) / 2\n",
        "\n",
        "math_median = median(math_scores)\n",
        "prog_median = median(prog_scores)\n",
        "print(f\"数学の中央値: {math_median}\")\n",
        "print(f\"プログラミングの中央値: {prog_median}\")\n",
        "\n",
        "# 問題3: 最頻値\n",
        "def mode(scores):\n",
        "    count = {}\n",
        "    for score in scores:\n",
        "        count[score] = count.get(score, 0) + 1\n",
        "\n",
        "    max_count = max(count.values())\n",
        "    max_score = []\n",
        "    for key, value in count.items():\n",
        "         if value == max_count:\n",
        "            max_score.append(key)\n",
        "    if len(max_score) == len(count):\n",
        "        return list(count.keys())\n",
        "    elif len(max_score) == 1:\n",
        "        return max_score[0]\n",
        "\n",
        "math_mode = mode(math_scores)\n",
        "prog_mode = mode(prog_scores)\n",
        "print(f\"数学の最頻値: {math_mode}\")\n",
        "print(f\"プログラミングの最頻値: {prog_mode}\")\n",
        "\n",
        "\n",
        "# 問題4: 標準偏差と分散\n",
        "def stdev(scores):\n",
        "    mean_val = mean(scores)\n",
        "    import math\n",
        "    variance = sum((x - mean_val) ** 2 for x in scores) / len(scores)\n",
        "    return math.sqrt(variance)\n",
        "\n",
        "def variance(scores):\n",
        "    mean_val = mean(scores)\n",
        "    return sum((score - mean_val) ** 2 for score in scores) / len(scores)\n",
        "\n",
        "\n",
        "math_std = stdev(math_scores)\n",
        "prog_std = stdev(prog_scores)\n",
        "math_var = variance(math_scores)\n",
        "prog_var = variance(prog_scores)\n",
        "print(f\"数学の標準偏差: {math_std}\")\n",
        "print(f\"プログラミングの標準偏差: {prog_std}\")\n",
        "print(f\"数学の分散: {math_var}\")\n",
        "print(f\"プログラミングの分散: {prog_var}\")\n",
        "\n",
        "\n",
        "# 問題5: 相関係数(応用: 数式を確認する必要がある)\n",
        "def covariance(x, y):\n",
        "    x_mean = mean(x)\n",
        "    y_mean = mean(y)\n",
        "    cov = sum((x_i - x_mean) * (y_i - y_mean) for x_i, y_i in zip(x, y))\n",
        "    return cov / (len(x) - 1)\n",
        "\n",
        "def corr_coef(x, y):\n",
        "    return covariance(x, y)/(stdev(x)*stdev(y))\n",
        "\n",
        "corr = corr_coef(math_scores, prog_scores)\n",
        "print(f\"数学とプログラミングの相関係数: {corr}\")"
      ],
      "metadata": {
        "colab": {
          "base_uri": "https://localhost:8080/"
        },
        "id": "y6kezBvWNvVT",
        "outputId": "f93e43da-09ff-45b8-ef26-daa6bde2d1ac"
      },
      "execution_count": null,
      "outputs": [
        {
          "output_type": "stream",
          "name": "stdout",
          "text": [
            "数学の平均点: 78.6\n",
            "プログラミングの平均点: 79.4\n",
            "数学の中央値: 78.0\n",
            "プログラミングの中央値: 80.0\n",
            "数学の最頻値: [75, 82, 91, 64, 88, 73, 95, 67, 81, 70]\n",
            "プログラミングの最頻値: [85, 76, 92, 68, 79, 81, 88, 65, 73, 87]\n",
            "数学の標準偏差: 9.971960689854328\n",
            "プログラミングの標準偏差: 8.452218643646175\n",
            "数学の分散: 99.44\n",
            "プログラミングの分散: 71.44\n",
            "数学とプログラミングの相関係数: 0.6665201372516742\n"
          ]
        }
      ]
    },
    {
      "cell_type": "markdown",
      "source": [
        "\n",
        "実践4-2\n",
        "標準正規分布について調べて報告してください。正規分布との違いは何ですか？\n",
        "\n",
        "\n",
        "標準正規分布は、平均が0で標準偏差が1の正規分布を指します。正規分布と標準正規分布の主な違いは、平均と標準偏差の値です。"
      ],
      "metadata": {
        "id": "0lBXnbZE-9EP"
      }
    },
    {
      "cell_type": "markdown",
      "source": [
        "実践4-3(応用):\n",
        "二項分布・ポアソン分布・指数分布・ベルヌーイ分布・幾何分布について調べて報告してください。\n",
        "\n",
        "二項分布 (Binomial Distribution):\n",
        "二項分布は、2つの結果のうち1つを成功として定義し、それぞれの成功確率が同じである独立なベルヌーイ試行をn回行った場合の成功回数の確率分布です。\n",
        "\n",
        "ポアソン分布 (Poisson Distribution):\n",
        "ポアソン分布は、ある一定の時間や領域で発生するイベントの回数が、平均的に一定の率で起こるときに、その回数の確率分布を表します。\n",
        "例：単位時間あたりの交通事故の発生数など\n",
        "\n",
        "指数分布 (Exponential Distribution):\n",
        "指数分布は、ある事象が起こるまでの時間間隔が従う確率分布です。\n",
        "例：あるイベントが発生するまでの待ち時間や製品の寿命など\n",
        "\n",
        "ベルヌーイ分布 (Bernoulli Distribution):\n",
        "ベルヌーイ分布は、2つの結果（例えば成功と失敗）を持つ試行の確率分布です。\n",
        "例:コインを5回投げた時に表2回出る確率\n",
        "\n",
        "幾何分布 (Geometric Distribution):\n",
        "幾何分布は、ベルヌーイ試行で初めて成功が起こるまでの失敗の回数（試行回数）の確率分布です。\n",
        "例:1の目が出るまでにサイコロを振り続ける回数の分布\n",
        "\n"
      ],
      "metadata": {
        "id": "l-4-vn2d_Oix"
      }
    },
    {
      "cell_type": "markdown",
      "source": [
        "実践5-1(回帰)\n",
        "最小二乗法について説明してください。\n",
        "\n",
        "最小二乗法は、「予測モデルによる予測値」と「実測値」の誤差を2乗した和を最小化する手法です。誤差の2乗の和を最小化するような予測モデルのパラメータを特定し、予測モデルを実測値にフィットさせます"
      ],
      "metadata": {
        "id": "Jy0KbBzpAll7"
      }
    },
    {
      "cell_type": "markdown",
      "source": [
        "実践5-2:\n",
        "過学習について説明してください。 過学習が起きると何が問題でしょうか。\n",
        "\n",
        "過学習（Overfitting）は、機械学習や統計モデリングにおいて、モデルが訓練データに過度に適合しすぎる現象を指します。\n",
        "\n",
        "過学習が起きると、モデルが訓練データに対して過度に適合するため、新しいデータに対してうまく予測できなくなります。つまり、モデルが訓練データに適合しすぎてしまうため、本来の目的である未知のデータに対する予測能力が低下します。\n"
      ],
      "metadata": {
        "id": "jYMaRnuLBKk8"
      }
    },
    {
      "cell_type": "code",
      "source": [],
      "metadata": {
        "id": "J2CfQKn1-7XV"
      },
      "execution_count": null,
      "outputs": []
    },
    {
      "cell_type": "markdown",
      "source": [],
      "metadata": {
        "id": "5viWZgJd-4mX"
      }
    }
  ]
}
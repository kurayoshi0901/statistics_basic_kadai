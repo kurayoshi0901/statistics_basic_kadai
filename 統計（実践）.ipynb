{
  "nbformat": 4,
  "nbformat_minor": 0,
  "metadata": {
    "colab": {
      "provenance": []
    },
    "kernelspec": {
      "name": "python3",
      "display_name": "Python 3"
    },
    "language_info": {
      "name": "python"
    }
  },
  "cells": [
    {
      "cell_type": "code",
      "execution_count": null,
      "metadata": {
        "colab": {
          "base_uri": "https://localhost:8080/"
        },
        "id": "w-5IdvpcZf6J",
        "outputId": "3f373f69-c312-42ab-cfb5-94574512ecd6"
      },
      "outputs": [
        {
          "output_type": "stream",
          "name": "stdout",
          "text": [
            " y = x^2のx = 3での傾きは6.000001000927568です\n"
          ]
        }
      ],
      "source": [
        "#実践1:\n",
        "'''y=x^2のある値での傾き(微分)を求める計算式を定義してください。\n",
        "変化点を小さくすることで算出してください。'''\n",
        "def f(x):\n",
        "    return x**2\n",
        "\n",
        "def derivative(x, delta_x=1e-6):\n",
        "    return (f(x + delta_x) - f(x)) / delta_x\n",
        "\n",
        "x = 3\n",
        "slope = derivative(x)\n",
        "print(f\" y = x^2のx = {x}での傾きは約{slope}です\")"
      ]
    },
    {
      "cell_type": "code",
      "source": [
        "#実践２\n",
        "'''任意の関数を受け取ってその関数の傾き(微分)を求める計算式を関数で定義してください。'''\n",
        "\n",
        "def derivative(func, delta_x=1e-6):\n",
        "    return (func(x + delta_x) - func(x)) / delta_x\n"
      ],
      "metadata": {
        "id": "R4A_2Dz2eBnv"
      },
      "execution_count": 1,
      "outputs": []
    },
    {
      "cell_type": "code",
      "source": [],
      "metadata": {
        "id": "yNrIwF70eB5n"
      },
      "execution_count": null,
      "outputs": []
    }
  ]
}
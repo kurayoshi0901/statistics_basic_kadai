{
  "nbformat": 4,
  "nbformat_minor": 0,
  "metadata": {
    "colab": {
      "provenance": []
    },
    "kernelspec": {
      "name": "python3",
      "display_name": "Python 3"
    },
    "language_info": {
      "name": "python"
    }
  },
  "cells": [
    {
      "cell_type": "code",
      "execution_count": null,
      "metadata": {
        "colab": {
          "base_uri": "https://localhost:8080/"
        },
        "id": "w-5IdvpcZf6J",
        "outputId": "3f373f69-c312-42ab-cfb5-94574512ecd6"
      },
      "outputs": [
        {
          "output_type": "stream",
          "name": "stdout",
          "text": [
            " y = x^2のx = 3での傾きは6.000001000927568です\n"
          ]
        }
      ],
      "source": [
        "#実践1:\n",
        "'''y=x^2のある値での傾き(微分)を求める計算式を定義してください。\n",
        "変化点を小さくすることで算出してください。'''\n",
        "def f(x):\n",
        "    return x**2\n",
        "\n",
        "def derivative(x, delta_x=1e-6):\n",
        "    return (f(x + delta_x) - f(x)) / delta_x\n",
        "\n",
        "x = 3\n",
        "slope = derivative(x)\n",
        "print(f\" y = x^2のx = {x}での傾きは約{slope}です\")"
      ]
    },
    {
      "cell_type": "markdown",
      "source": [
        "# 新しいセクション"
      ],
      "metadata": {
        "id": "mq9iiXiKfCV2"
      }
    },
    {
      "cell_type": "code",
      "source": [
        "#実践２\n",
        "'''任意の関数を受け取ってその関数の傾き(微分)を求める計算式を関数で定義してください。'''\n",
        "\n",
        "def derivative(func, delta_x=1e-6):\n",
        "    return (func(x + delta_x) - func(x)) / delta_x\n"
      ],
      "metadata": {
        "id": "R4A_2Dz2eBnv"
      },
      "execution_count": null,
      "outputs": []
    },
    {
      "cell_type": "code",
      "source": [
        "#実践3-1:行列演算\n",
        "'''以下の演算を実施してください。\n",
        "ベクトル同士の足し算・引き算\n",
        "(a) 足し算: u = (2, -3, 5),\n",
        "v = (-1, 4, 1)\n",
        "u + vを計算せよ。'''\n",
        "\n",
        "import numpy as np\n",
        "u = np.array([2, -3, 5]),\n",
        "v = np.array([-1, 4, 1])\n",
        "print(\"ベクトル同士の足し算・引き算\")\n",
        "print(f\"(a){u+v}\")\n",
        "\n",
        "'''(b) 引き算:\n",
        "x = (7, -2, 4),\n",
        "y = (3, 5, -1)\n",
        "x - yを計算せよ。'''\n",
        "\n",
        "x = np.array([7, -2, 4]),\n",
        "y = np.array([3, 5, -1])\n",
        "print(f\"(b){x-y}\")\n",
        "\n",
        "'''行列同士の足し算引き算'''\n",
        "'''(a)'''\n",
        "A = np.array([[1,2,0], [3,-1,4]])\n",
        "B = np.array([[4,1,2],[-2,3,1]])\n",
        "\n",
        "print(\"行列同士の足し算引き算\")\n",
        "print(f\"(a){A+B}\")\n",
        "\n",
        "'''(b) '''\n",
        "C = np.array([[5,7,2],[-3,4,6],[1,-2,3]])\n",
        "D = np.array([[2,-1,4],[6,3,-2],[-4,1,5]])\n",
        "print(f\"(b){C-D}\")\n",
        "\n",
        "'''ベクトルのスカラー倍\n",
        "u = (2, -5, 3)\n",
        "2uを計算せよ。'''\n",
        "\n",
        "u = (2, -5, 3)\n",
        "print(\"ベクトルのスカラー倍\")\n",
        "print(f\"2u={u *2}\")\n",
        "\n",
        "\n",
        "\n",
        "'''行列のスカラー倍\n",
        "-3Aを計算せよ。'''\n",
        "\n",
        "A2 = np.array([[1,4,2], [3,-2,5]])\n",
        "\n",
        "print(\"行列のスカラー倍\")\n",
        "print(f\"-3A = {-3*A2}\")\n",
        "\n",
        "'''ABを計算せよ。'''\n",
        "\n",
        "A3 = np.array([[2,1], [3,4], [5,2]])\n",
        "B3 = np.array([[6,2], [2,7]])\n",
        "\n",
        "print(f\"AB = {np.dot(A3, B3)}\")\n",
        "\n",
        "'''行列とベクトルの掛け算\n",
        "\n",
        "Auを計算せよ。'''\n",
        "\n",
        "A4= np.array([[1,2,3], [4,5,6]])\n",
        "u = np.array([2,3,1])\n",
        "\n",
        "print(\"行列とベクトルの掛け算\")\n",
        "print(f\"Au = {np.dot(A4,u)}\")\n",
        "\n",
        "'''行列と単位行列の掛け算\n",
        "AI3を計算せよ。(I3は3×3の単位行列)'''\n",
        "\n",
        "A5 = np.array([[2,3,1], [4,0,2], [5,6,7]])\n",
        "I = 1\n",
        "print(\"行列と単位行列の掛け算\")\n",
        "print(f\"AI3 = {A5*I}\")"
      ],
      "metadata": {
        "id": "yNrIwF70eB5n",
        "colab": {
          "base_uri": "https://localhost:8080/"
        },
        "outputId": "346d986a-d8c9-44c2-f7ba-e92a374394e7"
      },
      "execution_count": null,
      "outputs": [
        {
          "output_type": "stream",
          "name": "stdout",
          "text": [
            "ベクトル同士の足し算・引き算\n",
            "(a)[[1 1 6]]\n",
            "(b)[[ 4 -7  5]]\n",
            "行列同士の足し算引き算\n",
            "(a)[[5 3 2]\n",
            " [1 2 5]]\n",
            "(b)[[ 3  8 -2]\n",
            " [-9  1  8]\n",
            " [ 5 -3 -2]]\n",
            "ベクトルのスカラー倍\n",
            "2u=(2, -5, 3, 2, -5, 3)\n",
            "行列のスカラー倍\n",
            "-3A = [[ -3 -12  -6]\n",
            " [ -9   6 -15]]\n",
            "AB = [[14 11]\n",
            " [26 34]\n",
            " [34 24]]\n",
            "行列とベクトルの掛け算\n",
            "Au = [11 29]\n",
            "行列と単位行列の掛け算\n",
            "AI3 = [[2 3 1]\n",
            " [4 0 2]\n",
            " [5 6 7]]\n"
          ]
        }
      ]
    },
    {
      "cell_type": "code",
      "source": [
        "#実践4-1(統計)\n",
        "'''サンプルデータ 生徒10人の数学とプログラミングの試験点数が以下のように与えられています。\n",
        "数学: [75, 82, 91, 64, 88, 73, 95, 67, 81, 70]\n",
        "プログラミング: [85, 76, 92, 68, 79, 81, 88, 65, 73, 87]\n",
        "問題1: 平均値を求める 数学とプログラミングの試験点数それぞれの平均点を求めてください。'''\n",
        "\n",
        "from math import sqrt\n",
        "\n",
        "math_scores = [75, 82, 91, 64, 88, 73, 95, 67, 81, 70]\n",
        "prog_scores = [85, 76, 92, 68, 79, 81, 88, 65, 73, 87]\n",
        "\n",
        "def mean(scores):\n",
        "    return sum(scores)/len(scores)\n",
        "\n",
        "math_mean = mean(math_scores)\n",
        "prog_mean = mean(prog_scores)\n",
        "print(f\"数学の平均点: {math_mean}\")\n",
        "print(f\"プログラミングの平均点: {prog_mean}\")\n",
        "\n",
        "# 問題2: 中央値\n",
        "def median(scores):\n",
        "    sorted_scores = sorted(scores)\n",
        "    n = len(sorted_scores)\n",
        "    if n % 2 == 1:\n",
        "        return sorted_scores[n // 2]\n",
        "    else:\n",
        "        right = n // 2\n",
        "        left = right - 1\n",
        "        return (sorted_scores[left] + sorted_scores[right]) / 2\n",
        "\n",
        "math_median = median(math_scores)\n",
        "prog_median = median(prog_scores)\n",
        "print(f\"数学の中央値: {math_median}\")\n",
        "print(f\"プログラミングの中央値: {prog_median}\")\n",
        "\n",
        "# 問題3: 最頻値\n",
        "def mode(scores):\n",
        "    count = {}\n",
        "    for score in scores:\n",
        "        count[score] = count.get(score, 0) + 1\n",
        "\n",
        "    max_count = max(count.values())\n",
        "    max_score = []\n",
        "    for key, value in count.items():\n",
        "         if value == max_count:\n",
        "            max_score.append(key)\n",
        "    if len(max_score) == len(count):\n",
        "        return list(count.keys())\n",
        "    elif len(max_score) == 1:\n",
        "        return max_score[0]\n",
        "\n",
        "math_mode = mode(math_scores)\n",
        "prog_mode = mode(prog_scores)\n",
        "print(f\"数学の最頻値: {math_mode}\")\n",
        "print(f\"プログラミングの最頻値: {prog_mode}\")\n",
        "\n",
        "\n",
        "# 問題4: 標準偏差と分散\n",
        "def stdev(scores):\n",
        "    mean_val = mean(scores)\n",
        "    import math\n",
        "    variance = sum((x - mean_val) ** 2 for x in scores) / len(scores)\n",
        "    return math.sqrt(variance)\n",
        "\n",
        "def variance(scores):\n",
        "    mean_val = mean(scores)\n",
        "    return sum((score - mean_val) ** 2 for score in scores) / len(scores)\n",
        "\n",
        "\n",
        "math_std = stdev(math_scores)\n",
        "prog_std = stdev(prog_scores)\n",
        "math_var = variance(math_scores)\n",
        "prog_var = variance(prog_scores)\n",
        "print(f\"数学の標準偏差: {math_std}\")\n",
        "print(f\"プログラミングの標準偏差: {prog_std}\")\n",
        "print(f\"数学の分散: {math_var}\")\n",
        "print(f\"プログラミングの分散: {prog_var}\")\n",
        "\n",
        "\n",
        "# 問題5: 相関係数(応用: 数式を確認する必要がある)\n",
        "def covariance(x, y):\n",
        "    x_mean = mean(x)\n",
        "    y_mean = mean(y)\n",
        "    cov = sum((x_i - x_mean) * (y_i - y_mean) for x_i, y_i in zip(x, y))\n",
        "    return cov / (len(x) - 1)\n",
        "\n",
        "def corr_coef(x, y):\n",
        "    return covariance(x, y)/(stdev(x)*stdev(y))\n",
        "\n",
        "corr = corr_coef(math_scores, prog_scores)\n",
        "print(f\"数学とプログラミングの相関係数: {corr}\")"
      ],
      "metadata": {
        "colab": {
          "base_uri": "https://localhost:8080/"
        },
        "id": "y6kezBvWNvVT",
        "outputId": "f93e43da-09ff-45b8-ef26-daa6bde2d1ac"
      },
      "execution_count": null,
      "outputs": [
        {
          "output_type": "stream",
          "name": "stdout",
          "text": [
            "数学の平均点: 78.6\n",
            "プログラミングの平均点: 79.4\n",
            "数学の中央値: 78.0\n",
            "プログラミングの中央値: 80.0\n",
            "数学の最頻値: [75, 82, 91, 64, 88, 73, 95, 67, 81, 70]\n",
            "プログラミングの最頻値: [85, 76, 92, 68, 79, 81, 88, 65, 73, 87]\n",
            "数学の標準偏差: 9.971960689854328\n",
            "プログラミングの標準偏差: 8.452218643646175\n",
            "数学の分散: 99.44\n",
            "プログラミングの分散: 71.44\n",
            "数学とプログラミングの相関係数: 0.6665201372516742\n"
          ]
        }
      ]
    }
  ]
}